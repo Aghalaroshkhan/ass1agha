{
  "nbformat": 4,
  "nbformat_minor": 0,
  "metadata": {
    "colab": {
      "name": "aghalaroshjawanpak",
      "provenance": [],
      "authorship_tag": "ABX9TyMuK/XyC1Obc4GjmAKY+eU1",
      "include_colab_link": true
    },
    "kernelspec": {
      "name": "python3",
      "display_name": "Python 3"
    },
    "language_info": {
      "name": "python"
    }
  },
  "cells": [
    {
      "cell_type": "markdown",
      "metadata": {
        "id": "view-in-github",
        "colab_type": "text"
      },
      "source": [
        "<a href=\"https://colab.research.google.com/github/Aghalaroshkhan/ass1agha/blob/main/aghalaroshjawanpak.ipynb\" target=\"_parent\"><img src=\"https://colab.research.google.com/assets/colab-badge.svg\" alt=\"Open In Colab\"/></a>"
      ]
    },
    {
      "cell_type": "code",
      "execution_count": 1,
      "metadata": {
        "colab": {
          "base_uri": "https://localhost:8080/"
        },
        "id": "lfwVnWIag_JG",
        "outputId": "6748b9d5-33c2-4182-fb5b-d64d01db1d7f"
      },
      "outputs": [
        {
          "output_type": "stream",
          "name": "stdout",
          "text": [
            "Q:02 Write a python program to get the python version you are using?\n",
            "Answer :\n",
            "3.7.12 (default, Sep 10 2021, 00:21:48) \n",
            "[GCC 7.5.0]\n"
          ]
        }
      ],
      "source": [
        "import sys\n",
        "print(\"Q:02 Write a python program to get the python version you are using?\")\n",
        "print(\"Answer :\")\n",
        "print(sys.version)"
      ]
    },
    {
      "cell_type": "code",
      "source": [
        "print(\"Q:01 Write a python program to print the given string in specific format?\")\n",
        "print(\"Answer :\")\n",
        "print('Twinkle, twinkle, little star,')\n",
        "print('         How i Wonder what you are')\n",
        "print('                 Up above the world so high,')\n",
        "print('                 Like a diamond in the sky.')\n",
        "print('Twinkle, twinkle, little star,')\n",
        "print('         How i Wonder what you are')\n"
      ],
      "metadata": {
        "colab": {
          "base_uri": "https://localhost:8080/"
        },
        "id": "p-iwiXvdhKqI",
        "outputId": "7e2f7535-dbb5-4e66-a1b3-d5f2d8eaa074"
      },
      "execution_count": 2,
      "outputs": [
        {
          "output_type": "stream",
          "name": "stdout",
          "text": [
            "Q:01 Write a python program to print the given string in specific format?\n",
            "Answer :\n",
            "Twinkle, twinkle, little star,\n",
            "         How i Wonder what you are\n",
            "                 Up above the world so high,\n",
            "                 Like a diamond in the sky.\n",
            "Twinkle, twinkle, little star,\n",
            "         How i Wonder what you are\n"
          ]
        }
      ]
    },
    {
      "cell_type": "code",
      "source": [
        "from datetime import datetime\n",
        "currentDateTime=datetime.now()\n",
        "print(\"date and time is : \",currentDateTime)"
      ],
      "metadata": {
        "colab": {
          "base_uri": "https://localhost:8080/"
        },
        "id": "pje06YoIhN57",
        "outputId": "3c02021a-1cc2-466a-f1a7-cf17a401e694"
      },
      "execution_count": 5,
      "outputs": [
        {
          "output_type": "stream",
          "name": "stdout",
          "text": [
            "date and time is :  2022-01-02 17:26:24.145215\n"
          ]
        }
      ]
    },
    {
      "cell_type": "code",
      "source": [
        "import math\n",
        "print(\"Q:04 Write a python program which accept the radius of a circle from the user and compute the area?\")\n",
        "print(\"Answer :\")\n",
        "r = float(input('radius of a circle:'))\n",
        "frml = math.pi* r **2   #pi=22/7\n",
        "print('area of a circle:' , frml)"
      ],
      "metadata": {
        "colab": {
          "base_uri": "https://localhost:8080/"
        },
        "id": "6vKxjNZlhSxe",
        "outputId": "dbfb1011-4962-46a3-df4f-c9cffbd2aa2f"
      },
      "execution_count": 6,
      "outputs": [
        {
          "output_type": "stream",
          "name": "stdout",
          "text": [
            "Q:04 Write a python program which accept the radius of a circle from the user and compute the area?\n",
            "Answer :\n",
            "radius of a circle:44\n",
            "area of a circle: 6082.12337734984\n"
          ]
        }
      ]
    },
    {
      "cell_type": "code",
      "source": [
        "print(\"Q:5 Write a python program which accepts the user's first and last name and print them in revers order with space between them?\")\n",
        "print(\"Answer :\")\n",
        "name_1 = input('first name: ') \n",
        "name_2 = input('last name: ')\n",
        "revFir = name_1[::-1]\n",
        "revLast= name_2 [::-1]\n",
        "print(revFir)\n",
        "print(revLast)"
      ],
      "metadata": {
        "colab": {
          "base_uri": "https://localhost:8080/"
        },
        "id": "lz3IDo1-hWFF",
        "outputId": "501c6df8-0454-4e9d-a364-e9a4374caf1c"
      },
      "execution_count": 10,
      "outputs": [
        {
          "output_type": "stream",
          "name": "stdout",
          "text": [
            "Q:5 Write a python program which accepts the user's first and last name and print them in revers order with space between them?\n",
            "Answer :\n",
            "first name: agha\n",
            "last name: larosh\n",
            "ahga\n",
            "hsoral\n"
          ]
        }
      ]
    },
    {
      "cell_type": "code",
      "source": [
        "print(\"Q:6 Write a python program which takes two input from user and print them addition?\")\n",
        "print(\"Answer :\")\n",
        "num1= int (input(\"Enter first number : \"))\n",
        "num2=int(input(\"Enter second number : \"))\n",
        "sum=num1+num2\n",
        "print(\"Total Addition : \",sum)"
      ],
      "metadata": {
        "colab": {
          "base_uri": "https://localhost:8080/"
        },
        "id": "M3F_m7vJhZBb",
        "outputId": "b4557ddc-053f-488c-e412-370b230fa42f"
      },
      "execution_count": 11,
      "outputs": [
        {
          "output_type": "stream",
          "name": "stdout",
          "text": [
            "Q:6 Write a python program which takes two input from user and print them addition?\n",
            "Answer :\n",
            "Enter first number : 44\n",
            "Enter second number : 55\n",
            "Total Addition :  99\n"
          ]
        }
      ]
    }
  ]
}